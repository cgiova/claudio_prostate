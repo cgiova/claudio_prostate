{
  "cells": [
    {
      "cell_type": "code",
      "execution_count": 1,
      "metadata": {
        "colab": {
          "base_uri": "https://localhost:8080/"
        },
        "id": "O2B3Q_vhhW3T",
        "outputId": "1b3e3d45-76a7-40b0-fc35-24f129b78360"
      },
      "outputs": [
        {
          "ename": "ModuleNotFoundError",
          "evalue": "No module named 'google.colab'",
          "output_type": "error",
          "traceback": [
            "\u001b[1;31m---------------------------------------------------------------------------\u001b[0m",
            "\u001b[1;31mModuleNotFoundError\u001b[0m                       Traceback (most recent call last)",
            "\u001b[1;32m~\\AppData\\Local\\Temp/ipykernel_11464/1050275017.py\u001b[0m in \u001b[0;36m<module>\u001b[1;34m\u001b[0m\n\u001b[1;32m----> 1\u001b[1;33m \u001b[1;32mfrom\u001b[0m \u001b[0mgoogle\u001b[0m\u001b[1;33m.\u001b[0m\u001b[0mcolab\u001b[0m \u001b[1;32mimport\u001b[0m \u001b[0mdrive\u001b[0m\u001b[1;33m\u001b[0m\u001b[1;33m\u001b[0m\u001b[0m\n\u001b[0m\u001b[0;32m      2\u001b[0m \u001b[0mdrive\u001b[0m\u001b[1;33m.\u001b[0m\u001b[0mmount\u001b[0m\u001b[1;33m(\u001b[0m\u001b[1;34m'/content/gdrive'\u001b[0m\u001b[1;33m)\u001b[0m\u001b[1;33m\u001b[0m\u001b[1;33m\u001b[0m\u001b[0m\n",
            "\u001b[1;31mModuleNotFoundError\u001b[0m: No module named 'google.colab'"
          ]
        }
      ],
      "source": [
        "from google.colab import drive\n",
        "drive.mount('/content/gdrive')"
      ]
    },
    {
      "cell_type": "code",
      "execution_count": null,
      "metadata": {
        "id": "sTwCdeoihaFj"
      },
      "outputs": [],
      "source": [
        "import sys\n",
        "if '/content/gdrive/My Drive/Colab Notebooks/ABELE_prostate/' not in sys.path:\n",
        "  sys.path.append('/content/gdrive/My Drive/Colab Notebooks/ABELE_prostate/')"
      ]
    },
    {
      "cell_type": "code",
      "execution_count": null,
      "metadata": {
        "colab": {
          "base_uri": "https://localhost:8080/"
        },
        "id": "q_NM3FirhbOw",
        "outputId": "9c595858-6c11-4a71-f4f0-07d693e6a011"
      },
      "outputs": [
        {
          "name": "stdout",
          "output_type": "stream",
          "text": [
            "Not connected to a GPU\n"
          ]
        }
      ],
      "source": [
        "gpu_info = !nvidia-smi\n",
        "gpu_info = '\\n'.join(gpu_info)\n",
        "if gpu_info.find('failed') >= 0:\n",
        "  print('Not connected to a GPU')\n",
        "else:\n",
        "  print(gpu_info)"
      ]
    },
    {
      "cell_type": "code",
      "execution_count": null,
      "metadata": {
        "colab": {
          "base_uri": "https://localhost:8080/"
        },
        "id": "21P-PZf64po3",
        "outputId": "8e8690cc-53ef-4e48-9874-085ca68b1871"
      },
      "outputs": [
        {
          "name": "stdout",
          "output_type": "stream",
          "text": [
            "\u001b[2K     \u001b[90m━━━━━━━━━━━━━━━━━━━━━━━━━━━━━━━━━━━━━━━━\u001b[0m \u001b[32m52.7/52.7 MB\u001b[0m \u001b[31m31.6 MB/s\u001b[0m eta \u001b[36m0:00:00\u001b[0m\n",
            "\u001b[?25h"
          ]
        }
      ],
      "source": [
        "!pip install -q SimpleITK"
      ]
    },
    {
      "cell_type": "code",
      "execution_count": null,
      "metadata": {
        "id": "_i0Z47kKrfx3"
      },
      "outputs": [],
      "source": [
        "import SimpleITK as sitk\n",
        "import numpy as np\n",
        "import os\n",
        "import matplotlib.pyplot as plt\n",
        "from matplotlib import cm\n",
        "from PIL import Image\n",
        "import cv2\n",
        "\n",
        "i=0 # generate the counter\n",
        "\n",
        "for path, subdirs, files in os.walk('/content/gdrive/My Drive/Colab Notebooks/ABELE_prostate/PICAI/'): # generates the file names in a directory tree by  \n",
        "                                                                                                       # walking through the tree either top-down or bottom-up \n",
        "    for name in files:\n",
        "      if name.endswith('adc.mha'):             # select only the files that end with 'adc.mha' \n",
        "        image_path = os.path.join(path, name)  # save the absolute path of each selected file to the variable image_path.\n",
        "        image = sitk.ReadImage(image_path) # reads in the selected image and saves it to the variable image.\n",
        "        max_index = image.GetDepth() # gets the maximum depth of the image along its z-axis\n",
        "        \n",
        "        list_of_2D_images_np = [sitk.GetArrayFromImage(image[:,:,i]) for i in range(max_index)] # creates a list of 2D numpy arrays, where each element \n",
        "                                                                                                # of the list is a 2D slice of the original 3D image.\n",
        "        for j in range(max_index):  # This loop iterates over all the 2D slices in list_of_2D_images_np \n",
        "                                    # and saves each slice as a 2D .png file\n",
        "          plt.imshow(list_of_2D_images_np[j], cmap=cm.Greys_r) # displays the 2D image slice as a grayscale image\n",
        "          plt.axis('off')\n",
        "          my_dpi=120 # sets the dots-per-inch resolution of the saved .png file to 120\n",
        "          save_path = image_path.replace('.mha', str(j)+'_adc.png') # constructs the file name for the saved .png file by replacing the '.mha'\n",
        "                                                                    # extension of the original file with '_adc.png' and appending the slice index j as a string\n",
        "          plt.savefig(save_path, bbox_inches='tight',  pad_inches = 0) # bbox_inches='tight' trims any whitespace around the edges of the plot\n",
        "                                                                       # pad_inches=0 removes any padding between the plot and the edge of the saved .png file.\n",
        "          #plt.show()\n",
        "          plt.close() # closes the current plot\n",
        "\n",
        "          image = Image.open(save_path)                 # open the saved .png file\n",
        "          resized_image = image.resize((384,384))       # resizes it to 384x384 pixels\n",
        "          resized_image = resized_image.save(save_path) # saves the resized image to the same file\n",
        "\n",
        "          if i%50==0:                                  # check if the current image being processed is a multiple of 50 (i.e. if i is evenly divisible by 50). \n",
        "            print('Image number:', i, ' ', image_path) # If it is, the code prints a message indicating the total number of saved images and the path of \n",
        "          i+=1                                         # the currently processed file. The counter variable i is then incremented by 1."
      ]
    },
    {
      "attachments": {},
      "cell_type": "markdown",
      "metadata": {},
      "source": [
        "Overall, this code reads in a set of medical images in the .mha format, extracts 2D slices from them, saves each slice as a 2D .png file, resizes the saved .png files to 384x384 pixels, and prints out an update message every 50 images processed."
      ]
    },
    {
      "cell_type": "code",
      "execution_count": null,
      "metadata": {
        "id": "czHJ4zHZuDz8"
      },
      "outputs": [],
      "source": [
        "from keras.preprocessing.image import ImageDataGenerator\n",
        "import sklearn.datasets\n",
        "import matplotlib.pyplot as plt\n",
        "import pandas as pd\n",
        "import numpy as np\n",
        "import random\n",
        "import os"
      ]
    },
    {
      "cell_type": "code",
      "execution_count": null,
      "metadata": {
        "id": "nQ4R_5dAuNVm"
      },
      "outputs": [],
      "source": [
        "path_data_t2w = '/content/gdrive/My Drive/Colab Notebooks/ABELE_prostate/PICAI' "
      ]
    },
    {
      "cell_type": "code",
      "execution_count": null,
      "metadata": {
        "id": "V3feiptGuVwH"
      },
      "outputs": [],
      "source": [
        "cont=1                                                                                               \n",
        "with open('/content/gdrive/My Drive/Colab Notebooks/ABELE_prostate/PICAI/t2w_list.txt','w+') as f:  # opens a new file called 't2w_list.txt'\n",
        "                                                                                                    # for writing ('w+') and saves the file object to the variable f.                                                   \n",
        "  for path, subdirs, files in os.walk(path_data_t2w): \n",
        "    for name in files:\n",
        "      if name.endswith('.png'): \n",
        "        file_path = os.path.join(path, name) # saves the absolute path of the file to the text file 't2w_list.txt' \n",
        "        f.write(file_path+'\\n')              # using the write() method of the file object f\n",
        "        cont+=1\n",
        "        if cont%100 == 0:\n",
        "          print(\"I have printed files: \", cont)"
      ]
    },
    {
      "attachments": {},
      "cell_type": "markdown",
      "metadata": {},
      "source": [
        "This code walks through a directory of .png files, saves the absolute path of each file to a text file, and prints a message every 100 files processed.\n",
        "Overall, this code is useful for creating a list of file paths that can be used as input to a machine learning algorithm or other analysis tool. By writing the file paths to a text file, the code makes it easy to load and process all the images in the directory without having to manually specify each file path."
      ]
    },
    {
      "cell_type": "code",
      "execution_count": null,
      "metadata": {
        "id": "AeCb6GkyvJrX"
      },
      "outputs": [],
      "source": [
        "path_data_adc = '/content/gdrive/My Drive/Colab Notebooks/ABELE_prostate/PICAI'"
      ]
    },
    {
      "cell_type": "code",
      "execution_count": null,
      "metadata": {
        "id": "QvuNS7K5vKoA"
      },
      "outputs": [],
      "source": [
        "cont=1\n",
        "with open('/content/gdrive/My Drive/Colab Notebooks/ABELE_prostate/PICAI/adc_list.txt','w+') as f:\n",
        "  for path, subdirs, files in os.walk(path_data_adc):\n",
        "    for name in files:\n",
        "      if name.endswith('adc.png'):\n",
        "        file_path = os.path.join(path, name)\n",
        "        f.write(file_path+'\\n')\n",
        "        cont+=1\n",
        "        if cont%100 == 0:\n",
        "          print(\"I have printed files: \", cont)"
      ]
    },
    {
      "attachments": {},
      "cell_type": "markdown",
      "metadata": {},
      "source": [
        "This code walks through a directory of .png files with names ending in 'adc.png', saves the absolute path of each file to a text file called 'adc_list.txt', and prints a message every 100 files processed.\n",
        "This code is similar to the previous code for creating a list of file paths, but it specifically selects files with names ending in 'adc.png'. This suggests that the images being processed in this code have already been preprocessed and saved as .png files with names that include information about the type of image (in this case, 'adc' likely refers to apparent diffusion coefficient maps used in prostate imaging). By creating separate lists of file paths for different types of images, the code makes it easy to load and process only the images of interest"
      ]
    },
    {
      "cell_type": "code",
      "execution_count": null,
      "metadata": {
        "colab": {
          "base_uri": "https://localhost:8080/"
        },
        "id": "3P9EVM58Haan",
        "outputId": "e27a1c92-cfbe-4ae1-e34e-4ab5adc47107"
      },
      "outputs": [
        {
          "name": "stdout",
          "output_type": "stream",
          "text": [
            "/content/gdrive/My Drive/Colab Notebooks/ABELE_prostate/PICAI/10360/10360_1000366_t2w20.png\n",
            "/content/gdrive/My Drive/Colab Notebooks/ABELE_prostate/PICAI/10211/10211_1000215_t2w9.png\n",
            "/content/gdrive/My Drive/Colab Notebooks/ABELE_prostate/PICAI/10211/10211_1000215_t2w10.png\n",
            "/content/gdrive/My Drive/Colab Notebooks/ABELE_prostate/PICAI/10211/10211_1000215_t2w12.png\n",
            "/content/gdrive/My Drive/Colab Notebooks/ABELE_prostate/PICAI/10211/10211_1000215_t2w11.png\n",
            "/content/gdrive/My Drive/Colab Notebooks/ABELE_prostate/PICAI/10211/10211_1000215_t2w14.png\n",
            "/content/gdrive/My Drive/Colab Notebooks/ABELE_prostate/PICAI/10211/10211_1000215_t2w17.png\n",
            "/content/gdrive/My Drive/Colab Notebooks/ABELE_prostate/PICAI/10211/10211_1000215_t2w18.png\n",
            "/content/gdrive/My Drive/Colab Notebooks/ABELE_prostate/PICAI/10209/10209_1000213_t2w3.png\n",
            "/content/gdrive/My Drive/Colab Notebooks/ABELE_prostate/PICAI/10201/10201_1000205_t2w25.png\n",
            "/content/gdrive/My Drive/Colab Notebooks/ABELE_prostate/PICAI/10201/10201_1000205_t2w27.png\n",
            "/content/gdrive/My Drive/Colab Notebooks/ABELE_prostate/PICAI/10014/10014_1000014_t2w0.png\n",
            "/content/gdrive/My Drive/Colab Notebooks/ABELE_prostate/PICAI/10014/10014_1000014_t2w1.png\n",
            "/content/gdrive/My Drive/Colab Notebooks/ABELE_prostate/PICAI/10014/10014_1000014_t2w2.png\n",
            "/content/gdrive/My Drive/Colab Notebooks/ABELE_prostate/PICAI/10014/10014_1000014_t2w3.png\n",
            "/content/gdrive/My Drive/Colab Notebooks/ABELE_prostate/PICAI/10014/10014_1000014_t2w4.png\n",
            "/content/gdrive/My Drive/Colab Notebooks/ABELE_prostate/PICAI/10014/10014_1000014_t2w6.png\n",
            "/content/gdrive/My Drive/Colab Notebooks/ABELE_prostate/PICAI/11136/11136_1001159_t2w16.png\n",
            "/content/gdrive/My Drive/Colab Notebooks/ABELE_prostate/PICAI/11136/11136_1001159_t2w17.png\n",
            "/content/gdrive/My Drive/Colab Notebooks/ABELE_prostate/PICAI/11136/11136_1001159_t2w18.png\n",
            "/content/gdrive/My Drive/Colab Notebooks/ABELE_prostate/PICAI/10688/10688_1000704_t2w0.png\n",
            "/content/gdrive/My Drive/Colab Notebooks/ABELE_prostate/PICAI/10688/10688_1000704_t2w1.png\n",
            "/content/gdrive/My Drive/Colab Notebooks/ABELE_prostate/PICAI/10688/10688_1000704_t2w6.png\n",
            "/content/gdrive/My Drive/Colab Notebooks/ABELE_prostate/PICAI/10688/10688_1000704_t2w7.png\n",
            "/content/gdrive/My Drive/Colab Notebooks/ABELE_prostate/PICAI/10688/10688_1000704_t2w8.png\n",
            "/content/gdrive/My Drive/Colab Notebooks/ABELE_prostate/PICAI/10688/10688_1000704_t2w9.png\n",
            "/content/gdrive/My Drive/Colab Notebooks/ABELE_prostate/PICAI/10688/10688_1000704_t2w10.png\n",
            "/content/gdrive/My Drive/Colab Notebooks/ABELE_prostate/PICAI/10688/10688_1000704_t2w15.png\n",
            "/content/gdrive/My Drive/Colab Notebooks/ABELE_prostate/PICAI/10688/10688_1000704_t2w16.png\n",
            "/content/gdrive/My Drive/Colab Notebooks/ABELE_prostate/PICAI/10688/10688_1000704_t2w17.png\n",
            "/content/gdrive/My Drive/Colab Notebooks/ABELE_prostate/PICAI/10406/10406_1000413_t2w17.png\n",
            "/content/gdrive/My Drive/Colab Notebooks/ABELE_prostate/PICAI/10406/10406_1000413_t2w18.png\n",
            "/content/gdrive/My Drive/Colab Notebooks/ABELE_prostate/PICAI/10241/10241_1000245_t2w0.png\n",
            "/content/gdrive/My Drive/Colab Notebooks/ABELE_prostate/PICAI/10241/10241_1000245_t2w4.png\n",
            "/content/gdrive/My Drive/Colab Notebooks/ABELE_prostate/PICAI/10241/10241_1000245_t2w5.png\n",
            "/content/gdrive/My Drive/Colab Notebooks/ABELE_prostate/PICAI/10241/10241_1000245_t2w6.png\n",
            "/content/gdrive/My Drive/Colab Notebooks/ABELE_prostate/PICAI/10241/10241_1000245_t2w9.png\n",
            "/content/gdrive/My Drive/Colab Notebooks/ABELE_prostate/PICAI/10241/10241_1000245_t2w10.png\n",
            "/content/gdrive/My Drive/Colab Notebooks/ABELE_prostate/PICAI/10241/10241_1000245_t2w11.png\n",
            "/content/gdrive/My Drive/Colab Notebooks/ABELE_prostate/PICAI/10241/10241_1000245_t2w12.png\n",
            "/content/gdrive/My Drive/Colab Notebooks/ABELE_prostate/PICAI/10241/10241_1000245_t2w13.png\n",
            "/content/gdrive/My Drive/Colab Notebooks/ABELE_prostate/PICAI/10241/10241_1000245_t2w14.png\n",
            "/content/gdrive/My Drive/Colab Notebooks/ABELE_prostate/PICAI/10241/10241_1000245_t2w16.png\n",
            "/content/gdrive/My Drive/Colab Notebooks/ABELE_prostate/PICAI/10241/10241_1000245_t2w18.png\n",
            "/content/gdrive/My Drive/Colab Notebooks/ABELE_prostate/PICAI/11472/11472_1001496_t2w18.png\n",
            "/content/gdrive/My Drive/Colab Notebooks/ABELE_prostate/PICAI/11448/11448_1001472_t2w19.png\n",
            "/content/gdrive/My Drive/Colab Notebooks/ABELE_prostate/PICAI/11257/11257_1001280_t2w0.png\n",
            "/content/gdrive/My Drive/Colab Notebooks/ABELE_prostate/PICAI/11257/11257_1001280_t2w1.png\n",
            "/content/gdrive/My Drive/Colab Notebooks/ABELE_prostate/PICAI/11257/11257_1001280_t2w2.png\n",
            "/content/gdrive/My Drive/Colab Notebooks/ABELE_prostate/PICAI/11257/11257_1001280_t2w4.png\n",
            "/content/gdrive/My Drive/Colab Notebooks/ABELE_prostate/PICAI/11257/11257_1001280_t2w5.png\n",
            "/content/gdrive/My Drive/Colab Notebooks/ABELE_prostate/PICAI/11257/11257_1001280_t2w6.png\n",
            "/content/gdrive/My Drive/Colab Notebooks/ABELE_prostate/PICAI/11257/11257_1001280_t2w7.png\n",
            "/content/gdrive/My Drive/Colab Notebooks/ABELE_prostate/PICAI/11257/11257_1001280_t2w8.png\n",
            "/content/gdrive/My Drive/Colab Notebooks/ABELE_prostate/PICAI/11257/11257_1001280_t2w9.png\n",
            "/content/gdrive/My Drive/Colab Notebooks/ABELE_prostate/PICAI/11257/11257_1001280_t2w10.png\n",
            "/content/gdrive/My Drive/Colab Notebooks/ABELE_prostate/PICAI/11257/11257_1001280_t2w11.png\n",
            "/content/gdrive/My Drive/Colab Notebooks/ABELE_prostate/PICAI/11257/11257_1001280_t2w12.png\n",
            "/content/gdrive/My Drive/Colab Notebooks/ABELE_prostate/PICAI/11257/11257_1001280_t2w13.png\n",
            "/content/gdrive/My Drive/Colab Notebooks/ABELE_prostate/PICAI/11257/11257_1001280_t2w14.png\n",
            "/content/gdrive/My Drive/Colab Notebooks/ABELE_prostate/PICAI/11257/11257_1001280_t2w15.png\n",
            "/content/gdrive/My Drive/Colab Notebooks/ABELE_prostate/PICAI/11257/11257_1001280_t2w16.png\n",
            "/content/gdrive/My Drive/Colab Notebooks/ABELE_prostate/PICAI/11257/11257_1001280_t2w17.png\n",
            "/content/gdrive/My Drive/Colab Notebooks/ABELE_prostate/PICAI/11257/11257_1001280_t2w18.png\n",
            "/content/gdrive/My Drive/Colab Notebooks/ABELE_prostate/PICAI/11257/11257_1001280_t2w19.png\n",
            "/content/gdrive/My Drive/Colab Notebooks/ABELE_prostate/PICAI/11257/11257_1001280_t2w20.png\n",
            "/content/gdrive/My Drive/Colab Notebooks/ABELE_prostate/PICAI/11163/11163_1001186_t2w8.png\n",
            "/content/gdrive/My Drive/Colab Notebooks/ABELE_prostate/PICAI/11163/11163_1001186_t2w9.png\n",
            "/content/gdrive/My Drive/Colab Notebooks/ABELE_prostate/PICAI/11163/11163_1001186_t2w10.png\n",
            "/content/gdrive/My Drive/Colab Notebooks/ABELE_prostate/PICAI/11163/11163_1001186_t2w11.png\n",
            "/content/gdrive/My Drive/Colab Notebooks/ABELE_prostate/PICAI/11163/11163_1001186_t2w12.png\n",
            "/content/gdrive/My Drive/Colab Notebooks/ABELE_prostate/PICAI/11163/11163_1001186_t2w13.png\n",
            "/content/gdrive/My Drive/Colab Notebooks/ABELE_prostate/PICAI/11163/11163_1001186_t2w14.png\n",
            "/content/gdrive/My Drive/Colab Notebooks/ABELE_prostate/PICAI/11163/11163_1001186_t2w15.png\n",
            "/content/gdrive/My Drive/Colab Notebooks/ABELE_prostate/PICAI/11163/11163_1001186_t2w16.png\n",
            "/content/gdrive/My Drive/Colab Notebooks/ABELE_prostate/PICAI/11163/11163_1001186_t2w17.png\n",
            "/content/gdrive/My Drive/Colab Notebooks/ABELE_prostate/PICAI/11163/11163_1001186_t2w18.png\n",
            "/content/gdrive/My Drive/Colab Notebooks/ABELE_prostate/PICAI/11163/11163_1001186_t2w19.png\n",
            "/content/gdrive/My Drive/Colab Notebooks/ABELE_prostate/PICAI/11163/11163_1001186_t2w20.png\n",
            "/content/gdrive/My Drive/Colab Notebooks/ABELE_prostate/PICAI/10898/10898_1000914_t2w2.png\n",
            "/content/gdrive/My Drive/Colab Notebooks/ABELE_prostate/PICAI/10898/10898_1000914_t2w7.png\n",
            "/content/gdrive/My Drive/Colab Notebooks/ABELE_prostate/PICAI/10656/10656_1000672_t2w1.png\n",
            "/content/gdrive/My Drive/Colab Notebooks/ABELE_prostate/PICAI/10656/10656_1000672_t2w2.png\n",
            "/content/gdrive/My Drive/Colab Notebooks/ABELE_prostate/PICAI/10635/10635_1000651_t2w1.png\n",
            "/content/gdrive/My Drive/Colab Notebooks/ABELE_prostate/PICAI/10552/10552_1000564_t2w19.png\n",
            "/content/gdrive/My Drive/Colab Notebooks/ABELE_prostate/PICAI/10339/10339_1000345_t2w14.png\n",
            "/content/gdrive/My Drive/Colab Notebooks/ABELE_prostate/PICAI/10339/10339_1000345_t2w15.png\n",
            "/content/gdrive/My Drive/Colab Notebooks/ABELE_prostate/PICAI/10339/10339_1000345_t2w18.png\n",
            "/content/gdrive/My Drive/Colab Notebooks/ABELE_prostate/PICAI/10303/10303_1000309_t2w5.png\n",
            "/content/gdrive/My Drive/Colab Notebooks/ABELE_prostate/PICAI/10303/10303_1000309_t2w6.png\n",
            "/content/gdrive/My Drive/Colab Notebooks/ABELE_prostate/PICAI/10303/10303_1000309_t2w8.png\n",
            "/content/gdrive/My Drive/Colab Notebooks/ABELE_prostate/PICAI/10125/10125_1000125_t2w0.png\n",
            "/content/gdrive/My Drive/Colab Notebooks/ABELE_prostate/PICAI/10125/10125_1000125_t2w1.png\n",
            "/content/gdrive/My Drive/Colab Notebooks/ABELE_prostate/PICAI/10012/10012_1000012_t2w0.png\n",
            "/content/gdrive/My Drive/Colab Notebooks/ABELE_prostate/PICAI/10012/10012_1000012_t2w1.png\n",
            "/content/gdrive/My Drive/Colab Notebooks/ABELE_prostate/PICAI/10012/10012_1000012_t2w10.png\n",
            "/content/gdrive/My Drive/Colab Notebooks/ABELE_prostate/PICAI/10012/10012_1000012_t2w12.png\n",
            "/content/gdrive/My Drive/Colab Notebooks/ABELE_prostate/PICAI/10012/10012_1000012_t2w20.png\n",
            "/content/gdrive/My Drive/Colab Notebooks/ABELE_prostate/PICAI/11475/11475_1001499_t2w2.png\n",
            "/content/gdrive/My Drive/Colab Notebooks/ABELE_prostate/PICAI/11475/11475_1001499_t2w5.png\n",
            "/content/gdrive/My Drive/Colab Notebooks/ABELE_prostate/PICAI/11475/11475_1001499_t2w6.png\n",
            "/content/gdrive/My Drive/Colab Notebooks/ABELE_prostate/PICAI/11475/11475_1001499_t2w7.png\n",
            "/content/gdrive/My Drive/Colab Notebooks/ABELE_prostate/PICAI/11475/11475_1001499_t2w8.png\n",
            "/content/gdrive/My Drive/Colab Notebooks/ABELE_prostate/PICAI/11475/11475_1001499_t2w9.png\n",
            "/content/gdrive/My Drive/Colab Notebooks/ABELE_prostate/PICAI/11475/11475_1001499_t2w10.png\n",
            "/content/gdrive/My Drive/Colab Notebooks/ABELE_prostate/PICAI/11375/11375_1001398_t2w17.png\n",
            "/content/gdrive/My Drive/Colab Notebooks/ABELE_prostate/PICAI/11375/11375_1001398_t2w18.png\n",
            "/content/gdrive/My Drive/Colab Notebooks/ABELE_prostate/PICAI/11375/11375_1001398_t2w20.png\n",
            "/content/gdrive/My Drive/Colab Notebooks/ABELE_prostate/PICAI/11395/11395_1001419_t2w0.png\n",
            "/content/gdrive/My Drive/Colab Notebooks/ABELE_prostate/PICAI/11395/11395_1001419_t2w1.png\n",
            "/content/gdrive/My Drive/Colab Notebooks/ABELE_prostate/PICAI/11395/11395_1001419_t2w3.png\n",
            "/content/gdrive/My Drive/Colab Notebooks/ABELE_prostate/PICAI/11395/11395_1001419_t2w4.png\n",
            "/content/gdrive/My Drive/Colab Notebooks/ABELE_prostate/PICAI/11395/11395_1001419_t2w6.png\n",
            "/content/gdrive/My Drive/Colab Notebooks/ABELE_prostate/PICAI/11395/11395_1001419_t2w7.png\n",
            "/content/gdrive/My Drive/Colab Notebooks/ABELE_prostate/PICAI/11395/11395_1001419_t2w8.png\n",
            "/content/gdrive/My Drive/Colab Notebooks/ABELE_prostate/PICAI/11395/11395_1001419_t2w10.png\n",
            "/content/gdrive/My Drive/Colab Notebooks/ABELE_prostate/PICAI/11395/11395_1001419_t2w11.png\n",
            "/content/gdrive/My Drive/Colab Notebooks/ABELE_prostate/PICAI/11395/11395_1001419_t2w12.png\n",
            "/content/gdrive/My Drive/Colab Notebooks/ABELE_prostate/PICAI/11395/11395_1001419_t2w13.png\n",
            "/content/gdrive/My Drive/Colab Notebooks/ABELE_prostate/PICAI/11395/11395_1001419_t2w14.png\n",
            "/content/gdrive/My Drive/Colab Notebooks/ABELE_prostate/PICAI/11395/11395_1001419_t2w15.png\n",
            "/content/gdrive/My Drive/Colab Notebooks/ABELE_prostate/PICAI/11395/11395_1001419_t2w17.png\n",
            "/content/gdrive/My Drive/Colab Notebooks/ABELE_prostate/PICAI/11395/11395_1001419_t2w22.png\n",
            "/content/gdrive/My Drive/Colab Notebooks/ABELE_prostate/PICAI/11395/11395_1001419_t2w23.png\n",
            "/content/gdrive/My Drive/Colab Notebooks/ABELE_prostate/PICAI/11029/11029_1001049_t2w22.png\n",
            "/content/gdrive/My Drive/Colab Notebooks/ABELE_prostate/PICAI/10785/10785_1000801_t2w11.png\n",
            "/content/gdrive/My Drive/Colab Notebooks/ABELE_prostate/PICAI/10785/10785_1000801_t2w12.png\n",
            "/content/gdrive/My Drive/Colab Notebooks/ABELE_prostate/PICAI/10785/10785_1000801_t2w13.png\n",
            "/content/gdrive/My Drive/Colab Notebooks/ABELE_prostate/PICAI/10785/10785_1000801_t2w14.png\n",
            "/content/gdrive/My Drive/Colab Notebooks/ABELE_prostate/PICAI/10785/10785_1000801_t2w15.png\n",
            "/content/gdrive/My Drive/Colab Notebooks/ABELE_prostate/PICAI/10785/10785_1000801_t2w16.png\n",
            "/content/gdrive/My Drive/Colab Notebooks/ABELE_prostate/PICAI/10785/10785_1000801_t2w17.png\n",
            "/content/gdrive/My Drive/Colab Notebooks/ABELE_prostate/PICAI/10752/10752_1000768_t2w16.png\n",
            "/content/gdrive/My Drive/Colab Notebooks/ABELE_prostate/PICAI/10483/10483_1000491_t2w0.png\n",
            "/content/gdrive/My Drive/Colab Notebooks/ABELE_prostate/PICAI/10483/10483_1000491_t2w1.png\n",
            "/content/gdrive/My Drive/Colab Notebooks/ABELE_prostate/PICAI/10483/10483_1000491_t2w15.png\n",
            "/content/gdrive/My Drive/Colab Notebooks/ABELE_prostate/PICAI/10483/10483_1000491_t2w16.png\n",
            "/content/gdrive/My Drive/Colab Notebooks/ABELE_prostate/PICAI/10483/10483_1000491_t2w18.png\n",
            "/content/gdrive/My Drive/Colab Notebooks/ABELE_prostate/PICAI/10262/10262_1000266_t2w0.png\n",
            "/content/gdrive/My Drive/Colab Notebooks/ABELE_prostate/PICAI/10262/10262_1000266_t2w1.png\n",
            "/content/gdrive/My Drive/Colab Notebooks/ABELE_prostate/PICAI/10262/10262_1000266_t2w2.png\n",
            "/content/gdrive/My Drive/Colab Notebooks/ABELE_prostate/PICAI/10262/10262_1000266_t2w3.png\n",
            "/content/gdrive/My Drive/Colab Notebooks/ABELE_prostate/PICAI/10262/10262_1000266_t2w4.png\n",
            "/content/gdrive/My Drive/Colab Notebooks/ABELE_prostate/PICAI/10262/10262_1000266_t2w5.png\n",
            "/content/gdrive/My Drive/Colab Notebooks/ABELE_prostate/PICAI/10262/10262_1000266_t2w6.png\n",
            "/content/gdrive/My Drive/Colab Notebooks/ABELE_prostate/PICAI/10262/10262_1000266_t2w7.png\n",
            "/content/gdrive/My Drive/Colab Notebooks/ABELE_prostate/PICAI/10262/10262_1000266_t2w8.png\n",
            "/content/gdrive/My Drive/Colab Notebooks/ABELE_prostate/PICAI/10262/10262_1000266_t2w9.png\n",
            "/content/gdrive/My Drive/Colab Notebooks/ABELE_prostate/PICAI/10262/10262_1000266_t2w10.png\n",
            "/content/gdrive/My Drive/Colab Notebooks/ABELE_prostate/PICAI/10262/10262_1000266_t2w11.png\n",
            "/content/gdrive/My Drive/Colab Notebooks/ABELE_prostate/PICAI/10262/10262_1000266_t2w12.png\n",
            "/content/gdrive/My Drive/Colab Notebooks/ABELE_prostate/PICAI/10262/10262_1000266_t2w13.png\n",
            "/content/gdrive/My Drive/Colab Notebooks/ABELE_prostate/PICAI/10262/10262_1000266_t2w14.png\n",
            "/content/gdrive/My Drive/Colab Notebooks/ABELE_prostate/PICAI/10262/10262_1000266_t2w15.png\n",
            "/content/gdrive/My Drive/Colab Notebooks/ABELE_prostate/PICAI/10262/10262_1000266_t2w16.png\n",
            "/content/gdrive/My Drive/Colab Notebooks/ABELE_prostate/PICAI/10262/10262_1000266_t2w17.png\n",
            "/content/gdrive/My Drive/Colab Notebooks/ABELE_prostate/PICAI/10262/10262_1000266_t2w18.png\n",
            "/content/gdrive/My Drive/Colab Notebooks/ABELE_prostate/PICAI/10262/10262_1000266_t2w19.png\n",
            "/content/gdrive/My Drive/Colab Notebooks/ABELE_prostate/PICAI/10262/10262_1000266_t2w20.png\n",
            "/content/gdrive/My Drive/Colab Notebooks/ABELE_prostate/PICAI/10150/10150_1000152_t2w17.png\n",
            "/content/gdrive/My Drive/Colab Notebooks/ABELE_prostate/PICAI/10782/10782_1000798_t2w9.png\n",
            "/content/gdrive/My Drive/Colab Notebooks/ABELE_prostate/PICAI/10782/10782_1000798_t2w11.png\n",
            "/content/gdrive/My Drive/Colab Notebooks/ABELE_prostate/PICAI/10782/10782_1000798_t2w12.png\n",
            "/content/gdrive/My Drive/Colab Notebooks/ABELE_prostate/PICAI/10782/10782_1000798_t2w13.png\n",
            "/content/gdrive/My Drive/Colab Notebooks/ABELE_prostate/PICAI/10782/10782_1000798_t2w14.png\n",
            "/content/gdrive/My Drive/Colab Notebooks/ABELE_prostate/PICAI/10782/10782_1000798_t2w15.png\n",
            "/content/gdrive/My Drive/Colab Notebooks/ABELE_prostate/PICAI/10782/10782_1000798_t2w16.png\n",
            "/content/gdrive/My Drive/Colab Notebooks/ABELE_prostate/PICAI/10782/10782_1000798_t2w17.png\n",
            "/content/gdrive/My Drive/Colab Notebooks/ABELE_prostate/PICAI/10730/10730_1000746_t2w0.png\n",
            "/content/gdrive/My Drive/Colab Notebooks/ABELE_prostate/PICAI/10730/10730_1000746_t2w1.png\n",
            "/content/gdrive/My Drive/Colab Notebooks/ABELE_prostate/PICAI/10730/10730_1000746_t2w3.png\n",
            "/content/gdrive/My Drive/Colab Notebooks/ABELE_prostate/PICAI/10730/10730_1000746_t2w4.png\n",
            "/content/gdrive/My Drive/Colab Notebooks/ABELE_prostate/PICAI/10730/10730_1000746_t2w5.png\n",
            "/content/gdrive/My Drive/Colab Notebooks/ABELE_prostate/PICAI/10730/10730_1000746_t2w9.png\n",
            "/content/gdrive/My Drive/Colab Notebooks/ABELE_prostate/PICAI/10730/10730_1000746_t2w10.png\n",
            "/content/gdrive/My Drive/Colab Notebooks/ABELE_prostate/PICAI/10730/10730_1000746_t2w11.png\n",
            "/content/gdrive/My Drive/Colab Notebooks/ABELE_prostate/PICAI/10730/10730_1000746_t2w13.png\n",
            "/content/gdrive/My Drive/Colab Notebooks/ABELE_prostate/PICAI/10730/10730_1000746_t2w14.png\n",
            "/content/gdrive/My Drive/Colab Notebooks/ABELE_prostate/PICAI/10730/10730_1000746_t2w15.png\n",
            "/content/gdrive/My Drive/Colab Notebooks/ABELE_prostate/PICAI/10730/10730_1000746_t2w16.png\n",
            "/content/gdrive/My Drive/Colab Notebooks/ABELE_prostate/PICAI/10730/10730_1000746_t2w17.png\n",
            "/content/gdrive/My Drive/Colab Notebooks/ABELE_prostate/PICAI/10730/10730_1000746_t2w19.png\n",
            "/content/gdrive/My Drive/Colab Notebooks/ABELE_prostate/PICAI/10032/10032_1000032_t2w1.png\n",
            "/content/gdrive/My Drive/Colab Notebooks/ABELE_prostate/PICAI/10032/10032_1000032_t2w2.png\n",
            "/content/gdrive/My Drive/Colab Notebooks/ABELE_prostate/PICAI/10032/10032_1000032_t2w3.png\n",
            "/content/gdrive/My Drive/Colab Notebooks/ABELE_prostate/PICAI/10032/10032_1000032_t2w4.png\n",
            "/content/gdrive/My Drive/Colab Notebooks/ABELE_prostate/PICAI/10032/10032_1000032_t2w5.png\n",
            "/content/gdrive/My Drive/Colab Notebooks/ABELE_prostate/PICAI/10032/10032_1000032_t2w6.png\n",
            "/content/gdrive/My Drive/Colab Notebooks/ABELE_prostate/PICAI/10032/10032_1000032_t2w7.png\n",
            "/content/gdrive/My Drive/Colab Notebooks/ABELE_prostate/PICAI/10032/10032_1000032_t2w8.png\n",
            "/content/gdrive/My Drive/Colab Notebooks/ABELE_prostate/PICAI/10032/10032_1000032_t2w9.png\n",
            "/content/gdrive/My Drive/Colab Notebooks/ABELE_prostate/PICAI/10032/10032_1000032_t2w10.png\n",
            "/content/gdrive/My Drive/Colab Notebooks/ABELE_prostate/PICAI/10032/10032_1000032_t2w11.png\n",
            "/content/gdrive/My Drive/Colab Notebooks/ABELE_prostate/PICAI/10032/10032_1000032_t2w12.png\n",
            "/content/gdrive/My Drive/Colab Notebooks/ABELE_prostate/PICAI/10032/10032_1000032_t2w13.png\n",
            "/content/gdrive/My Drive/Colab Notebooks/ABELE_prostate/PICAI/10032/10032_1000032_t2w14.png\n",
            "/content/gdrive/My Drive/Colab Notebooks/ABELE_prostate/PICAI/10032/10032_1000032_t2w15.png\n",
            "/content/gdrive/My Drive/Colab Notebooks/ABELE_prostate/PICAI/10032/10032_1000032_t2w16.png\n",
            "/content/gdrive/My Drive/Colab Notebooks/ABELE_prostate/PICAI/10032/10032_1000032_t2w17.png\n",
            "/content/gdrive/My Drive/Colab Notebooks/ABELE_prostate/PICAI/10368/10368_1000374_t2w4.png\n",
            "/content/gdrive/My Drive/Colab Notebooks/ABELE_prostate/PICAI/10368/10368_1000374_t2w12.png\n",
            "/content/gdrive/My Drive/Colab Notebooks/ABELE_prostate/PICAI/10368/10368_1000374_t2w14.png\n",
            "/content/gdrive/My Drive/Colab Notebooks/ABELE_prostate/PICAI/10368/10368_1000374_t2w18.png\n",
            "/content/gdrive/My Drive/Colab Notebooks/ABELE_prostate/PICAI/10078/10078_1000078_t2w0.png\n",
            "/content/gdrive/My Drive/Colab Notebooks/ABELE_prostate/PICAI/10078/10078_1000078_t2w1.png\n",
            "/content/gdrive/My Drive/Colab Notebooks/ABELE_prostate/PICAI/10078/10078_1000078_t2w2.png\n",
            "/content/gdrive/My Drive/Colab Notebooks/ABELE_prostate/PICAI/10078/10078_1000078_t2w15.png\n",
            "/content/gdrive/My Drive/Colab Notebooks/ABELE_prostate/PICAI/10078/10078_1000078_t2w16.png\n",
            "/content/gdrive/My Drive/Colab Notebooks/ABELE_prostate/PICAI/10078/10078_1000078_t2w17.png\n",
            "/content/gdrive/My Drive/Colab Notebooks/ABELE_prostate/PICAI/10078/10078_1000078_t2w18.png\n",
            "/content/gdrive/My Drive/Colab Notebooks/ABELE_prostate/PICAI/10073/10073_1000073_t2w4.png\n",
            "/content/gdrive/My Drive/Colab Notebooks/ABELE_prostate/PICAI/10059/10059_1000059_t2w2.png\n",
            "/content/gdrive/My Drive/Colab Notebooks/ABELE_prostate/PICAI/10059/10059_1000059_t2w3.png\n",
            "/content/gdrive/My Drive/Colab Notebooks/ABELE_prostate/PICAI/10059/10059_1000059_t2w4.png\n",
            "/content/gdrive/My Drive/Colab Notebooks/ABELE_prostate/PICAI/10059/10059_1000059_t2w5.png\n",
            "/content/gdrive/My Drive/Colab Notebooks/ABELE_prostate/PICAI/10059/10059_1000059_t2w6.png\n",
            "/content/gdrive/My Drive/Colab Notebooks/ABELE_prostate/PICAI/10059/10059_1000059_t2w7.png\n",
            "/content/gdrive/My Drive/Colab Notebooks/ABELE_prostate/PICAI/10059/10059_1000059_t2w8.png\n",
            "/content/gdrive/My Drive/Colab Notebooks/ABELE_prostate/PICAI/10059/10059_1000059_t2w9.png\n",
            "/content/gdrive/My Drive/Colab Notebooks/ABELE_prostate/PICAI/10059/10059_1000059_t2w10.png\n",
            "/content/gdrive/My Drive/Colab Notebooks/ABELE_prostate/PICAI/10059/10059_1000059_t2w11.png\n",
            "/content/gdrive/My Drive/Colab Notebooks/ABELE_prostate/PICAI/10059/10059_1000059_t2w12.png\n",
            "/content/gdrive/My Drive/Colab Notebooks/ABELE_prostate/PICAI/10059/10059_1000059_t2w13.png\n",
            "/content/gdrive/My Drive/Colab Notebooks/ABELE_prostate/PICAI/10059/10059_1000059_t2w14.png\n",
            "/content/gdrive/My Drive/Colab Notebooks/ABELE_prostate/PICAI/10059/10059_1000059_t2w15.png\n",
            "/content/gdrive/My Drive/Colab Notebooks/ABELE_prostate/PICAI/10059/10059_1000059_t2w16.png\n",
            "/content/gdrive/My Drive/Colab Notebooks/ABELE_prostate/PICAI/10059/10059_1000059_t2w17.png\n",
            "/content/gdrive/My Drive/Colab Notebooks/ABELE_prostate/PICAI/10059/10059_1000059_t2w18.png\n",
            "/content/gdrive/My Drive/Colab Notebooks/ABELE_prostate/PICAI/10059/10059_1000059_t2w19.png\n",
            "/content/gdrive/My Drive/Colab Notebooks/ABELE_prostate/PICAI/11338/11338_1001361_t2w0.png\n",
            "/content/gdrive/My Drive/Colab Notebooks/ABELE_prostate/PICAI/11338/11338_1001361_t2w14.png\n",
            "/content/gdrive/My Drive/Colab Notebooks/ABELE_prostate/PICAI/11338/11338_1001361_t2w16.png\n",
            "/content/gdrive/My Drive/Colab Notebooks/ABELE_prostate/PICAI/11338/11338_1001361_t2w17.png\n",
            "/content/gdrive/My Drive/Colab Notebooks/ABELE_prostate/PICAI/11338/11338_1001361_t2w18.png\n",
            "/content/gdrive/My Drive/Colab Notebooks/ABELE_prostate/PICAI/10650/10650_1000666_t2w0.png\n",
            "/content/gdrive/My Drive/Colab Notebooks/ABELE_prostate/PICAI/10650/10650_1000666_t2w2.png\n",
            "/content/gdrive/My Drive/Colab Notebooks/ABELE_prostate/PICAI/10650/10650_1000666_t2w3.png\n",
            "/content/gdrive/My Drive/Colab Notebooks/ABELE_prostate/PICAI/10650/10650_1000666_t2w4.png\n",
            "/content/gdrive/My Drive/Colab Notebooks/ABELE_prostate/PICAI/10650/10650_1000666_t2w5.png\n",
            "/content/gdrive/My Drive/Colab Notebooks/ABELE_prostate/PICAI/10650/10650_1000666_t2w6.png\n",
            "/content/gdrive/My Drive/Colab Notebooks/ABELE_prostate/PICAI/10650/10650_1000666_t2w7.png\n",
            "/content/gdrive/My Drive/Colab Notebooks/ABELE_prostate/PICAI/10650/10650_1000666_t2w8.png\n",
            "/content/gdrive/My Drive/Colab Notebooks/ABELE_prostate/PICAI/10650/10650_1000666_t2w10.png\n",
            "/content/gdrive/My Drive/Colab Notebooks/ABELE_prostate/PICAI/10650/10650_1000666_t2w12.png\n",
            "/content/gdrive/My Drive/Colab Notebooks/ABELE_prostate/PICAI/10650/10650_1000666_t2w13.png\n",
            "/content/gdrive/My Drive/Colab Notebooks/ABELE_prostate/PICAI/10650/10650_1000666_t2w14.png\n",
            "/content/gdrive/My Drive/Colab Notebooks/ABELE_prostate/PICAI/10650/10650_1000666_t2w15.png\n",
            "/content/gdrive/My Drive/Colab Notebooks/ABELE_prostate/PICAI/10650/10650_1000666_t2w16.png\n",
            "/content/gdrive/My Drive/Colab Notebooks/ABELE_prostate/PICAI/11253/11253_1001276_t2w9.png\n",
            "/content/gdrive/My Drive/Colab Notebooks/ABELE_prostate/PICAI/11253/11253_1001276_t2w10.png\n",
            "/content/gdrive/My Drive/Colab Notebooks/ABELE_prostate/PICAI/11253/11253_1001276_t2w11.png\n",
            "/content/gdrive/My Drive/Colab Notebooks/ABELE_prostate/PICAI/10026/10026_1000026_t2w14.png\n",
            "/content/gdrive/My Drive/Colab Notebooks/ABELE_prostate/PICAI/10026/10026_1000026_t2w15.png\n",
            "/content/gdrive/My Drive/Colab Notebooks/ABELE_prostate/PICAI/10026/10026_1000026_t2w18.png\n",
            "/content/gdrive/My Drive/Colab Notebooks/ABELE_prostate/PICAI/10563/10563_1000575_t2w16.png\n",
            "/content/gdrive/My Drive/Colab Notebooks/ABELE_prostate/PICAI/10563/10563_1000575_t2w17.png\n",
            "/content/gdrive/My Drive/Colab Notebooks/ABELE_prostate/PICAI/10563/10563_1000575_t2w18.png\n",
            "/content/gdrive/My Drive/Colab Notebooks/ABELE_prostate/PICAI/10473/10473_1000481_t2w0.png\n",
            "/content/gdrive/My Drive/Colab Notebooks/ABELE_prostate/PICAI/10473/10473_1000481_t2w1.png\n",
            "/content/gdrive/My Drive/Colab Notebooks/ABELE_prostate/PICAI/10473/10473_1000481_t2w2.png\n",
            "/content/gdrive/My Drive/Colab Notebooks/ABELE_prostate/PICAI/10473/10473_1000481_t2w3.png\n",
            "/content/gdrive/My Drive/Colab Notebooks/ABELE_prostate/PICAI/10473/10473_1000481_t2w14.png\n",
            "/content/gdrive/My Drive/Colab Notebooks/ABELE_prostate/PICAI/10473/10473_1000481_t2w16.png\n",
            "/content/gdrive/My Drive/Colab Notebooks/ABELE_prostate/PICAI/10473/10473_1000481_t2w17.png\n",
            "/content/gdrive/My Drive/Colab Notebooks/ABELE_prostate/PICAI/10473/10473_1000481_t2w18.png\n",
            "265\n"
          ]
        }
      ],
      "source": [
        "import os\n",
        "cont=0\n",
        "for path, subdirs, files in os.walk('/content/gdrive/My Drive/Colab Notebooks/ABELE_prostate/PICAI/'): \n",
        "    for name in files:\n",
        "      if 't2w' in name and name.endswith('.png'):\n",
        "        image_path = os.path.join(path, name)\n",
        "        size = os.stat(image_path).st_size/1024 # os.stat() calculates the size of the file in kilobytes\n",
        "                                                # st_size attribute of the resulting object contains the size of the file in bytes\n",
        "                                                # size is then divided by 1024 to convert it to kilobytes and stored in the variable size\n",
        "        if 85 < size < 95: # checks if kb size is between 85 and 95 \n",
        "          print(image_path)\n",
        "          cont+=1\n",
        "print(cont)"
      ]
    },
    {
      "attachments": {},
      "cell_type": "markdown",
      "metadata": {},
      "source": [
        "This code walks through a directory of .png files with names that contain the substring 't2w' and prints the absolute path of each file whose size is between 85 and 95 kilobytes. At the end, it prints the total number of files that met this criteria. this code is useful for selecting a subset of images that meet specific criteria, such as a specific size range. This can be useful for filtering out images that are too small or too large"
      ]
    }
  ],
  "metadata": {
    "colab": {
      "provenance": []
    },
    "gpuClass": "standard",
    "kernelspec": {
      "display_name": "Python 3",
      "name": "python3"
    },
    "language_info": {
      "codemirror_mode": {
        "name": "ipython",
        "version": 3
      },
      "file_extension": ".py",
      "mimetype": "text/x-python",
      "name": "python",
      "nbconvert_exporter": "python",
      "pygments_lexer": "ipython3",
      "version": "3.8.12"
    }
  },
  "nbformat": 4,
  "nbformat_minor": 0
}
