{
  "cells": [
    {
      "cell_type": "code",
      "execution_count": null,
      "metadata": {
        "colab": {
          "base_uri": "https://localhost:8080/"
        },
        "id": "8WdNWormHeiK",
        "outputId": "8b92d31d-d3ac-4fea-c929-01f3683051e7"
      },
      "outputs": [
        {
          "name": "stdout",
          "output_type": "stream",
          "text": [
            "Mounted at /content/gdrive\n"
          ]
        }
      ],
      "source": [
        "from google.colab import drive\n",
        "drive.mount('/content/gdrive')"
      ]
    },
    {
      "cell_type": "code",
      "execution_count": null,
      "metadata": {
        "id": "wlRgs_A8HvCo"
      },
      "outputs": [],
      "source": [
        "import sys\n",
        "if '/content/gdrive/My Drive/Colab Notebooks/ABELE_prostate/' not in sys.path:\n",
        "  sys.path.append('/content/gdrive/My Drive/Colab Notebooks/ABELE_prostate/')"
      ]
    },
    {
      "cell_type": "code",
      "execution_count": null,
      "metadata": {
        "colab": {
          "base_uri": "https://localhost:8080/"
        },
        "id": "04L7SAIDHyZZ",
        "outputId": "3c03584d-a321-401f-e3d6-7e19007c3a21"
      },
      "outputs": [
        {
          "name": "stdout",
          "output_type": "stream",
          "text": [
            "Mon Aug  8 13:27:26 2022       \n",
            "+-----------------------------------------------------------------------------+\n",
            "| NVIDIA-SMI 460.32.03    Driver Version: 460.32.03    CUDA Version: 11.2     |\n",
            "|-------------------------------+----------------------+----------------------+\n",
            "| GPU  Name        Persistence-M| Bus-Id        Disp.A | Volatile Uncorr. ECC |\n",
            "| Fan  Temp  Perf  Pwr:Usage/Cap|         Memory-Usage | GPU-Util  Compute M. |\n",
            "|                               |                      |               MIG M. |\n",
            "|===============================+======================+======================|\n",
            "|   0  Tesla V100-SXM2...  Off  | 00000000:00:04.0 Off |                    0 |\n",
            "| N/A   38C    P0    23W / 300W |      0MiB / 16160MiB |      0%      Default |\n",
            "|                               |                      |                  N/A |\n",
            "+-------------------------------+----------------------+----------------------+\n",
            "                                                                               \n",
            "+-----------------------------------------------------------------------------+\n",
            "| Processes:                                                                  |\n",
            "|  GPU   GI   CI        PID   Type   Process name                  GPU Memory |\n",
            "|        ID   ID                                                   Usage      |\n",
            "|=============================================================================|\n",
            "|  No running processes found                                                 |\n",
            "+-----------------------------------------------------------------------------+\n"
          ]
        }
      ],
      "source": [
        "gpu_info = !nvidia-smi\n",
        "gpu_info = '\\n'.join(gpu_info)\n",
        "if gpu_info.find('failed') >= 0:\n",
        "  print('Not connected to a GPU')\n",
        "else:\n",
        "  print(gpu_info)"
      ]
    },
    {
      "attachments": {},
      "cell_type": "markdown",
      "metadata": {
        "id": "MzaOTm20H0d5"
      },
      "source": [
        "DICOM dataset to jpeg"
      ]
    },
    {
      "cell_type": "code",
      "execution_count": null,
      "metadata": {
        "colab": {
          "base_uri": "https://localhost:8080/"
        },
        "id": "qIHiDTTqUEUx",
        "outputId": "fc0fbe57-e8a0-459c-ffae-56f7b32fe44b"
      },
      "outputs": [
        {
          "name": "stdout",
          "output_type": "stream",
          "text": [
            "Looking in indexes: https://pypi.org/simple, https://us-python.pkg.dev/colab-wheels/public/simple/\n",
            "Collecting pydicom\n",
            "  Downloading pydicom-2.3.0-py3-none-any.whl (2.0 MB)\n",
            "\u001b[K     |████████████████████████████████| 2.0 MB 8.5 MB/s \n",
            "\u001b[?25hInstalling collected packages: pydicom\n",
            "Successfully installed pydicom-2.3.0\n"
          ]
        }
      ],
      "source": [
        "!pip install pydicom"
      ]
    },
    {
      "cell_type": "code",
      "execution_count": null,
      "metadata": {
        "id": "Oi1gBPHqUFm1"
      },
      "outputs": [],
      "source": [
        "import os\n",
        "import pydicom as dicom\n",
        "import PIL # optional\n",
        "import pandas as pd\n",
        "import matplotlib.pyplot as plt\n",
        "from PIL import Image"
      ]
    },
    {
      "cell_type": "code",
      "execution_count": null,
      "metadata": {
        "id": "ATd8qhbxHz_Y"
      },
      "outputs": [],
      "source": [
        "i=0\n",
        "for path, subdirs, files in os.walk('/content/gdrive/My Drive/Colab Notebooks/ABELE_prostate/Prostate_dcm/manifest-A3Y4AE4o5818678569166032044/'):\n",
        "    for name in files:\n",
        "      if name.endswith('.dcm'):\n",
        "        image_path = os.path.join(path, name)\n",
        "        ds = dicom.dcmread(image_path)\n",
        "        if len(ds.pixel_array.shape)==2: # checks if the pixel array in the DICOM file has 2 dimensions using the shape \n",
        "                                         # attribute of the pixel_array property of the DICOM object ds\n",
        "          plt.imshow(ds.pixel_array, cmap='gray')\n",
        "          plt.axis('off')\n",
        "          my_dpi=120\n",
        "          save_path = image_path.replace('.dcm', '.png')\n",
        "          plt.savefig(save_path, bbox_inches='tight',  # bbox_inches='tight' trims any whitespace around the edges of the plot\n",
        "                                 pad_inches = 0)       # pad_inches=0 removes padding btw plot and the edge of the saved .png\n",
        "          plt.figure(figsize=(384/my_dpi, 384/my_dpi), dpi=my_dpi)\n",
        "          plt.show()\n",
        "          plt.close()\n",
        "          image = Image.open(save_path)\n",
        "          resized_image = image.resize((384,384))\n",
        "          resized_image = resized_image.save(save_path)\n",
        "          if i%20==0:\n",
        "            print('Image number:', i, ' ', image_path)\n",
        "          i+=1\n",
        "        else:       \n",
        "          continue # If the pixel array has more than 2 dimensions, the code skips to the next file\n",
        "      else:         \n",
        "        continue   # If the file does not end with '.dcm', the code also skips to the next file"
      ]
    },
    {
      "attachments": {},
      "cell_type": "markdown",
      "metadata": {},
      "source": [
        "This code loads DICOM files from a directory, converts them to PNG format, resizes them to 384x384 pixels, and saves them back to the same directory. It also displays the original and resized images using Matplotlib. this code is useful for converting DICOM files to PNG format and resizing them toa specific size,"
      ]
    },
    {
      "cell_type": "code",
      "execution_count": null,
      "metadata": {
        "id": "A65FUTtnIpg1"
      },
      "outputs": [],
      "source": [
        "from PIL import Image\n",
        "\n",
        "for path, subdirs, files in os.walk('/content/gdrive/My Drive/Colab Notebooks/ABELE_prostate/Prostate_dcm/TestData/'):\n",
        "    for name in files:\n",
        "      if name.endswith('.raw'):\n",
        "        image_path = os.path.join(path, name)\n",
        "        rawData = open(image_path, 'rb').read() # open a file image_path in binary mode ('rb')\n",
        "        imgSize = (384,384) # the image size\n",
        "        img = Image.frombytes('L',              # creates a PIL image object from the raw image\n",
        "                              imgSize, rawData) # 'L' specifies the mode if the image (grayscale)\n",
        "        save_path = image_path.replace('.raw', '.png')\n",
        "        img.save(save_path) # can give any format you like .png\n",
        "      else:\n",
        "        continue\n"
      ]
    },
    {
      "attachments": {},
      "cell_type": "markdown",
      "metadata": {},
      "source": [
        "This code reads raw image files, converts them to PNG format, and saves them in the same directory. Binary mode is used here because the file being read is not a text file, but rather an image file. Reading a binary file in text mode can cause issues, such as the conversion of line endings or other special characters. Once the contents of the file are stored in rawData, they can be processed or manipulated as needed. For example, they can be passed to a library or function that expects image data in bytes format."
      ]
    },
    {
      "cell_type": "code",
      "execution_count": null,
      "metadata": {
        "id": "wj1SgHQNLGGi"
      },
      "outputs": [],
      "source": [
        "import numpy as np\n",
        "import os    # Traverse folders \n",
        "import nibabel as nib #nii Format 1 This bag will be used in general \n",
        "import imageio   # Convert to an image \n",
        " \n",
        "def nii_to_image(niifile):\n",
        " filenames = os.listdir(filepath) # Read nii Folder\n",
        " slice_trans = []\n",
        " \n",
        " for f in filenames:\n",
        "  # Start reading nii Documents \n",
        "  img_path = os.path.join(filepath, f)\n",
        "  img = nib.load(img_path)    # Read nii\n",
        "  img_fdata = img.get_fdata() # returns a numpy array of the image data from a NIfTI file\n",
        "  fname = f.replace('.nii','')   # Remove nii Suffix name of \n",
        "  img_f_path = os.path.join(imgfile, fname)\n",
        "  # Create nii The folder of the corresponding image \n",
        "  if not os.path.exists(img_f_path):\n",
        "   os.mkdir(img_f_path)    # create New Folder \n",
        " \n",
        "  # Start converting to an image \n",
        "  (x,y,z) = img.shape\n",
        "  for i in range(z):      #z Is a sequence of images \n",
        "   silce = img_fdata[i, :, :]   # You can choose which direction of slice \n",
        "   imageio.imwrite(os.path.join(img_f_path,'{}.png'.format(i)), silce) # The function takes two arguments: \n",
        "                                                                       # the path to the file where the image should be saved, \n",
        "                                                                       # and the image data as a numpy array\n",
        "filepath = '/content/gdrive/My Drive/Colab Notebooks/ABELE_prostate/Prostate_dcm/Processed_data_nii/BIDMC'\n",
        "imgfile = '/content/gdrive/My Drive/Colab Notebooks/ABELE_prostate/Prostate_dcm/Processed_data_nii/BIDMC'\n",
        "nii_to_image(filepath)"
      ]
    },
    {
      "attachments": {},
      "cell_type": "markdown",
      "metadata": {},
      "source": [
        "This code is a Python function that converts MRI images in NIfTI format (.nii files) to PNG images and saves them in a corresponding directory for each NIfTI file. the function takes a single argument `niifile`, which is the path to the folder containing the NIfTI files. It then reads all the filenames in this folder using the `os.listdir()` method and stores them in the `filenames` variable. For each file in `filenames`, the function loads the NIfTI file using the `nib.load()` method from the `nibabel` library, which returns an `nibabel.nifti1.Nifti1Image` object. The function then extracts the image data as a numpy array using the `get_fdata()` method and stores it in the `img_fdata` variable.\n",
        "\n",
        "The function then creates a new directory with the same name as the NIfTI file (with the `.nii` extension removed) in the specified `imgfile` directory using the `os.mkdir()` method. This directory will be used to store the PNG images that correspond to the slices of the NIfTI image.\n",
        "\n",
        "The function then loops through each slice of the NIfTI image along the `z` axis (which corresponds to the sequence of images), and saves each slice as a PNG image in the corresponding directory using the `imageio.imwrite()` method."
      ]
    },
    {
      "attachments": {},
      "cell_type": "markdown",
      "metadata": {},
      "source": [
        "NIfTI (Neuroimaging Informatics Technology Initiative) is a standard file format for storing medical imaging data, particularly for brain imaging studies such as magnetic resonance imaging (MRI) and positron emission tomography (PET).\n",
        "\n",
        "A NIfTI file contains both the image data and metadata such as image dimensions, voxel size, and orientation information. The format is designed to be simple, flexible, and extensible, making it widely used in neuroimaging research.\n",
        "\n",
        "A NIfTI image is typically a 3D or 4D array of image data, where the dimensions correspond to the x, y, z, and time (if present) of the image. Each element in the array represents the signal intensity at a specific spatial location (voxel) in the image, which can be used to visualize and analyze the structure and function of the brain.\n",
        "\n",
        "The NIfTI format also includes a header that contains information about the image acquisition parameters, such as the imaging modality, the orientation of the image, and the voxel size. This header information is essential for correctly interpreting the image data and ensuring that the image is analyzed correctly.\n",
        "\n",
        "Metadata is data that describes other data. In the context of medical imaging, metadata provides information about the image data, such as the imaging modality, acquisition parameters, and patient demographics.\n",
        "\n",
        "Metadata is typically stored in a header file that accompanies the image data. In the case of NIfTI format, the metadata is stored in the header section of the file, which is separate from the image data."
      ]
    },
    {
      "cell_type": "code",
      "execution_count": null,
      "metadata": {
        "id": "9Fmbm0Vs0q6K"
      },
      "outputs": [],
      "source": [
        "for path, subdirs, files in os.walk('/content/gdrive/My Drive/Colab Notebooks/ABELE_prostate/Prostate_dcm/manifest-A3Y4AE4o5818678569166032044/'):\n",
        "    for name in files:\n",
        "      if name.endswith('.dcm'):\n",
        "        image_path = os.path.join(path, name)\n",
        "        os.remove(image_path) # deletes the file from the file system\n",
        "        print('File removed: ', image_path)\n",
        "      else:\n",
        "        continue"
      ]
    },
    {
      "attachments": {},
      "cell_type": "markdown",
      "metadata": {},
      "source": [
        "This code is useful for removing unwanted DICOM files from a directory tree. In this case, the code is specifically removing DICOM files from the directory tree specified by the root directory."
      ]
    },
    {
      "cell_type": "code",
      "execution_count": null,
      "metadata": {
        "id": "VeNy5-3kzPCO"
      },
      "outputs": [],
      "source": [
        "import shutil\n",
        "for path, subdirs, files in os.walk('/content/gdrive/My Drive/Colab Notebooks/ABELE_prostate/Prostate_dcm/manifest-A3Y4AE4o5818678569166032044/'):\n",
        "    for name in subdirs:\n",
        "      if 'reftra' in name:\n",
        "        image_path = os.path.join(path, name)\n",
        "        #os.remove(image_path)\n",
        "        shutil.rmtree(image_path) # deletes the directory and all its contents recursively.\n",
        "        print('File removed: ', image_path)\n",
        "      else:\n",
        "        continue"
      ]
    },
    {
      "attachments": {},
      "cell_type": "markdown",
      "metadata": {},
      "source": [
        "This code is similar to the previous code, but instead of removing individual files, it removes entire directories using the shutil module."
      ]
    }
  ],
  "metadata": {
    "colab": {
      "provenance": []
    },
    "gpuClass": "standard",
    "kernelspec": {
      "display_name": "Python 3",
      "name": "python3"
    },
    "language_info": {
      "name": "python"
    }
  },
  "nbformat": 4,
  "nbformat_minor": 0
}
